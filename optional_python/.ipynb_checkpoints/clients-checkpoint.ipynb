{
 "cells": [
  {
   "cell_type": "markdown",
   "id": "d51712af-3340-43ed-b9d0-9e271d334a5a",
   "metadata": {},
   "source": [
    "# Jupyter noteobok, Pandas and Seaborn introduction\n",
    "\n",
    "> - Pandas and Seaborn are Python packages\n",
    "> - Pandas is used for data wrangling purposes (it has many other applications)\n",
    "> - Seaborn is used for data viz\n",
    "> - Jupyter notebooks allows you to run your python code and also add markdown to your code. This makes it an effective tool for prototyping, exploration. Also, it is an amazing tool for the purposes of academia."
   ]
  },
  {
   "cell_type": "markdown",
   "id": "7958c404-4721-4664-a488-39e7d3c961e6",
   "metadata": {},
   "source": [
    "### Imports\n",
    "Good practice to put them on the top"
   ]
  },
  {
   "cell_type": "code",
   "execution_count": 1,
   "id": "b3b405a6-5791-46ca-bba3-4911b8fbfc41",
   "metadata": {},
   "outputs": [],
   "source": [
    "import pandas as pd\n",
    "import seaborn as sns\n"
   ]
  },
  {
   "cell_type": "markdown",
   "id": "355f5ff3-578c-4309-adc8-35722c7ee259",
   "metadata": {},
   "source": [
    "### Read data (look into the docs for additional information)"
   ]
  },
  {
   "cell_type": "code",
   "execution_count": 2,
   "id": "8b8b0b34-13e2-4a77-bc71-58d44ffd66b8",
   "metadata": {},
   "outputs": [],
   "source": [
    "clients = pd.read_csv('../datasets/clients.csv', parse_dates=['created_at'])"
   ]
  },
  {
   "cell_type": "markdown",
   "id": "1f5109f2-11ba-4d90-9ef2-03a9af58e0bd",
   "metadata": {},
   "source": [
    "### Show first five rows"
   ]
  },
  {
   "cell_type": "code",
   "execution_count": 3,
   "id": "fbea0c0b-6da3-48b7-9024-79e1e711c77b",
   "metadata": {},
   "outputs": [
    {
     "data": {
      "text/html": [
       "<div>\n",
       "<style scoped>\n",
       "    .dataframe tbody tr th:only-of-type {\n",
       "        vertical-align: middle;\n",
       "    }\n",
       "\n",
       "    .dataframe tbody tr th {\n",
       "        vertical-align: top;\n",
       "    }\n",
       "\n",
       "    .dataframe thead th {\n",
       "        text-align: right;\n",
       "    }\n",
       "</style>\n",
       "<table border=\"1\" class=\"dataframe\">\n",
       "  <thead>\n",
       "    <tr style=\"text-align: right;\">\n",
       "      <th></th>\n",
       "      <th>client_id</th>\n",
       "      <th>name</th>\n",
       "      <th>gender</th>\n",
       "      <th>dob</th>\n",
       "      <th>email</th>\n",
       "      <th>phone</th>\n",
       "      <th>channel</th>\n",
       "      <th>first_contact</th>\n",
       "      <th>lat</th>\n",
       "      <th>lon</th>\n",
       "      <th>location_name</th>\n",
       "      <th>created_at</th>\n",
       "    </tr>\n",
       "  </thead>\n",
       "  <tbody>\n",
       "    <tr>\n",
       "      <th>0</th>\n",
       "      <td>100000000</td>\n",
       "      <td>Kaushal Bashyal</td>\n",
       "      <td>Male</td>\n",
       "      <td>2003-03-14</td>\n",
       "      <td>kaushal.bashyal@fakeemail.com</td>\n",
       "      <td>9841791565</td>\n",
       "      <td>Google Search</td>\n",
       "      <td>browser</td>\n",
       "      <td>27.7768</td>\n",
       "      <td>85.3622</td>\n",
       "      <td>Golfutar Main Rd</td>\n",
       "      <td>2020-09-01 10:48:09.763278</td>\n",
       "    </tr>\n",
       "    <tr>\n",
       "      <th>1</th>\n",
       "      <td>100000001</td>\n",
       "      <td>Sona Hayanju</td>\n",
       "      <td>Female</td>\n",
       "      <td>1996-07-03</td>\n",
       "      <td>sona.hayanju@fakeemail.com</td>\n",
       "      <td>9841685812</td>\n",
       "      <td>Other</td>\n",
       "      <td>browser</td>\n",
       "      <td>27.6954</td>\n",
       "      <td>85.3447</td>\n",
       "      <td>ACE Institute Of Management</td>\n",
       "      <td>2020-09-01 11:46:03.489814</td>\n",
       "    </tr>\n",
       "    <tr>\n",
       "      <th>2</th>\n",
       "      <td>100000002</td>\n",
       "      <td>Suman Pokherel</td>\n",
       "      <td>Male</td>\n",
       "      <td>2005-08-04</td>\n",
       "      <td>suman.pokherel@fakeemail.com</td>\n",
       "      <td>9841526187</td>\n",
       "      <td>Facebook/Ads</td>\n",
       "      <td>browser</td>\n",
       "      <td>27.6590</td>\n",
       "      <td>85.3680</td>\n",
       "      <td>Changathali Rd</td>\n",
       "      <td>2020-09-01 14:05:06.316626</td>\n",
       "    </tr>\n",
       "    <tr>\n",
       "      <th>3</th>\n",
       "      <td>100000003</td>\n",
       "      <td>Samita Yogol</td>\n",
       "      <td>Female</td>\n",
       "      <td>2001-08-22</td>\n",
       "      <td>samita.yogol@fakeemail.com</td>\n",
       "      <td>9841131562</td>\n",
       "      <td>Facebook/Ads</td>\n",
       "      <td>browser</td>\n",
       "      <td>27.7126</td>\n",
       "      <td>85.2830</td>\n",
       "      <td>Ring Road</td>\n",
       "      <td>2020-09-01 20:56:28.775488</td>\n",
       "    </tr>\n",
       "    <tr>\n",
       "      <th>4</th>\n",
       "      <td>100000004</td>\n",
       "      <td>Mahima Marasaini</td>\n",
       "      <td>Female</td>\n",
       "      <td>1985-03-20</td>\n",
       "      <td>mahima.marasaini@fakeemail.com</td>\n",
       "      <td>9841859344</td>\n",
       "      <td>Other</td>\n",
       "      <td>app</td>\n",
       "      <td>27.7137</td>\n",
       "      <td>85.3245</td>\n",
       "      <td>Bhagawati Marg</td>\n",
       "      <td>2020-09-01 16:06:58.593803</td>\n",
       "    </tr>\n",
       "  </tbody>\n",
       "</table>\n",
       "</div>"
      ],
      "text/plain": [
       "   client_id              name  gender         dob  \\\n",
       "0  100000000   Kaushal Bashyal    Male  2003-03-14   \n",
       "1  100000001      Sona Hayanju  Female  1996-07-03   \n",
       "2  100000002    Suman Pokherel    Male  2005-08-04   \n",
       "3  100000003      Samita Yogol  Female  2001-08-22   \n",
       "4  100000004  Mahima Marasaini  Female  1985-03-20   \n",
       "\n",
       "                            email       phone        channel first_contact  \\\n",
       "0   kaushal.bashyal@fakeemail.com  9841791565  Google Search       browser   \n",
       "1      sona.hayanju@fakeemail.com  9841685812          Other       browser   \n",
       "2    suman.pokherel@fakeemail.com  9841526187   Facebook/Ads       browser   \n",
       "3      samita.yogol@fakeemail.com  9841131562   Facebook/Ads       browser   \n",
       "4  mahima.marasaini@fakeemail.com  9841859344          Other           app   \n",
       "\n",
       "       lat      lon                location_name                 created_at  \n",
       "0  27.7768  85.3622             Golfutar Main Rd 2020-09-01 10:48:09.763278  \n",
       "1  27.6954  85.3447  ACE Institute Of Management 2020-09-01 11:46:03.489814  \n",
       "2  27.6590  85.3680               Changathali Rd 2020-09-01 14:05:06.316626  \n",
       "3  27.7126  85.2830                    Ring Road 2020-09-01 20:56:28.775488  \n",
       "4  27.7137  85.3245               Bhagawati Marg 2020-09-01 16:06:58.593803  "
      ]
     },
     "execution_count": 3,
     "metadata": {},
     "output_type": "execute_result"
    }
   ],
   "source": [
    "clients.head()"
   ]
  },
  {
   "cell_type": "markdown",
   "id": "6705fa6c-8c0f-4dec-a82d-5b7ef7fc1d40",
   "metadata": {},
   "source": [
    "### Show last five rows"
   ]
  },
  {
   "cell_type": "code",
   "execution_count": 4,
   "id": "9d618bf2-6f26-4aa8-8b13-1f06340a7e68",
   "metadata": {},
   "outputs": [
    {
     "data": {
      "text/html": [
       "<div>\n",
       "<style scoped>\n",
       "    .dataframe tbody tr th:only-of-type {\n",
       "        vertical-align: middle;\n",
       "    }\n",
       "\n",
       "    .dataframe tbody tr th {\n",
       "        vertical-align: top;\n",
       "    }\n",
       "\n",
       "    .dataframe thead th {\n",
       "        text-align: right;\n",
       "    }\n",
       "</style>\n",
       "<table border=\"1\" class=\"dataframe\">\n",
       "  <thead>\n",
       "    <tr style=\"text-align: right;\">\n",
       "      <th></th>\n",
       "      <th>client_id</th>\n",
       "      <th>name</th>\n",
       "      <th>gender</th>\n",
       "      <th>dob</th>\n",
       "      <th>email</th>\n",
       "      <th>phone</th>\n",
       "      <th>channel</th>\n",
       "      <th>first_contact</th>\n",
       "      <th>lat</th>\n",
       "      <th>lon</th>\n",
       "      <th>location_name</th>\n",
       "      <th>created_at</th>\n",
       "    </tr>\n",
       "  </thead>\n",
       "  <tbody>\n",
       "    <tr>\n",
       "      <th>21638</th>\n",
       "      <td>100021638</td>\n",
       "      <td>Bibek Barakoti</td>\n",
       "      <td>Male</td>\n",
       "      <td>1999-10-05</td>\n",
       "      <td>bibek.barakoti@fakeemail.com</td>\n",
       "      <td>9841288299</td>\n",
       "      <td>Facebook/Ads</td>\n",
       "      <td>browser</td>\n",
       "      <td>27.6787</td>\n",
       "      <td>85.3103</td>\n",
       "      <td>Jhamsikhel Marg</td>\n",
       "      <td>2021-08-31 21:01:37.440162</td>\n",
       "    </tr>\n",
       "    <tr>\n",
       "      <th>21639</th>\n",
       "      <td>100021639</td>\n",
       "      <td>Ansu Huzdar</td>\n",
       "      <td>Female</td>\n",
       "      <td>2004-03-30</td>\n",
       "      <td>ansu.huzdar@fakeemail.com</td>\n",
       "      <td>9841694532</td>\n",
       "      <td>Google Search</td>\n",
       "      <td>browser</td>\n",
       "      <td>27.7305</td>\n",
       "      <td>85.3405</td>\n",
       "      <td>Banshidhar Marg</td>\n",
       "      <td>2021-08-31 01:11:26.657379</td>\n",
       "    </tr>\n",
       "    <tr>\n",
       "      <th>21640</th>\n",
       "      <td>100021640</td>\n",
       "      <td>Sumit Sanjel</td>\n",
       "      <td>Male</td>\n",
       "      <td>1997-07-11</td>\n",
       "      <td>sumit.sanjel@fakeemail.com</td>\n",
       "      <td>9841638790</td>\n",
       "      <td>Google Search</td>\n",
       "      <td>browser</td>\n",
       "      <td>27.7206</td>\n",
       "      <td>85.3194</td>\n",
       "      <td>Kumari Mai Marg</td>\n",
       "      <td>2021-08-31 20:41:11.488311</td>\n",
       "    </tr>\n",
       "    <tr>\n",
       "      <th>21641</th>\n",
       "      <td>100021641</td>\n",
       "      <td>Prapti Mushyakhow</td>\n",
       "      <td>Female</td>\n",
       "      <td>2006-05-08</td>\n",
       "      <td>prapti.mushyakhow@fakeemail.com</td>\n",
       "      <td>9841359950</td>\n",
       "      <td>Facebook/Ads</td>\n",
       "      <td>browser</td>\n",
       "      <td>27.7351</td>\n",
       "      <td>85.3056</td>\n",
       "      <td>Gongabu New Buspark</td>\n",
       "      <td>2021-08-31 18:17:39.263566</td>\n",
       "    </tr>\n",
       "    <tr>\n",
       "      <th>21642</th>\n",
       "      <td>100021642</td>\n",
       "      <td>Prazol Swarnakar</td>\n",
       "      <td>Male</td>\n",
       "      <td>1975-05-24</td>\n",
       "      <td>prazol.swarnakar@fakeemail.com</td>\n",
       "      <td>9841429598</td>\n",
       "      <td>Facebook/Ads</td>\n",
       "      <td>browser</td>\n",
       "      <td>27.6962</td>\n",
       "      <td>85.3393</td>\n",
       "      <td>BanaGanga Marga</td>\n",
       "      <td>2021-08-31 02:46:50.362896</td>\n",
       "    </tr>\n",
       "  </tbody>\n",
       "</table>\n",
       "</div>"
      ],
      "text/plain": [
       "       client_id               name  gender         dob  \\\n",
       "21638  100021638     Bibek Barakoti    Male  1999-10-05   \n",
       "21639  100021639        Ansu Huzdar  Female  2004-03-30   \n",
       "21640  100021640       Sumit Sanjel    Male  1997-07-11   \n",
       "21641  100021641  Prapti Mushyakhow  Female  2006-05-08   \n",
       "21642  100021642   Prazol Swarnakar    Male  1975-05-24   \n",
       "\n",
       "                                 email       phone        channel  \\\n",
       "21638     bibek.barakoti@fakeemail.com  9841288299   Facebook/Ads   \n",
       "21639        ansu.huzdar@fakeemail.com  9841694532  Google Search   \n",
       "21640       sumit.sanjel@fakeemail.com  9841638790  Google Search   \n",
       "21641  prapti.mushyakhow@fakeemail.com  9841359950   Facebook/Ads   \n",
       "21642   prazol.swarnakar@fakeemail.com  9841429598   Facebook/Ads   \n",
       "\n",
       "      first_contact      lat      lon        location_name  \\\n",
       "21638       browser  27.6787  85.3103      Jhamsikhel Marg   \n",
       "21639       browser  27.7305  85.3405      Banshidhar Marg   \n",
       "21640       browser  27.7206  85.3194      Kumari Mai Marg   \n",
       "21641       browser  27.7351  85.3056  Gongabu New Buspark   \n",
       "21642       browser  27.6962  85.3393      BanaGanga Marga   \n",
       "\n",
       "                      created_at  \n",
       "21638 2021-08-31 21:01:37.440162  \n",
       "21639 2021-08-31 01:11:26.657379  \n",
       "21640 2021-08-31 20:41:11.488311  \n",
       "21641 2021-08-31 18:17:39.263566  \n",
       "21642 2021-08-31 02:46:50.362896  "
      ]
     },
     "execution_count": 4,
     "metadata": {},
     "output_type": "execute_result"
    }
   ],
   "source": [
    "clients.tail()"
   ]
  },
  {
   "cell_type": "markdown",
   "id": "913c426b-880d-462a-929b-41bb4395acb2",
   "metadata": {},
   "source": [
    "### use the describe feature to get mean, count, median, quartile info (sometimes it might not be relavant so be careful)"
   ]
  },
  {
   "cell_type": "code",
   "execution_count": 5,
   "id": "088b1c2e-01ad-4517-89e8-4dfec651725a",
   "metadata": {},
   "outputs": [
    {
     "data": {
      "text/html": [
       "<div>\n",
       "<style scoped>\n",
       "    .dataframe tbody tr th:only-of-type {\n",
       "        vertical-align: middle;\n",
       "    }\n",
       "\n",
       "    .dataframe tbody tr th {\n",
       "        vertical-align: top;\n",
       "    }\n",
       "\n",
       "    .dataframe thead th {\n",
       "        text-align: right;\n",
       "    }\n",
       "</style>\n",
       "<table border=\"1\" class=\"dataframe\">\n",
       "  <thead>\n",
       "    <tr style=\"text-align: right;\">\n",
       "      <th></th>\n",
       "      <th>client_id</th>\n",
       "      <th>phone</th>\n",
       "      <th>lat</th>\n",
       "      <th>lon</th>\n",
       "    </tr>\n",
       "  </thead>\n",
       "  <tbody>\n",
       "    <tr>\n",
       "      <th>count</th>\n",
       "      <td>2.164300e+04</td>\n",
       "      <td>2.164300e+04</td>\n",
       "      <td>21643.000000</td>\n",
       "      <td>21643.000000</td>\n",
       "    </tr>\n",
       "    <tr>\n",
       "      <th>mean</th>\n",
       "      <td>1.000108e+08</td>\n",
       "      <td>9.841499e+09</td>\n",
       "      <td>27.702879</td>\n",
       "      <td>85.324533</td>\n",
       "    </tr>\n",
       "    <tr>\n",
       "      <th>std</th>\n",
       "      <td>6.247940e+03</td>\n",
       "      <td>2.880995e+05</td>\n",
       "      <td>0.022681</td>\n",
       "      <td>0.019033</td>\n",
       "    </tr>\n",
       "    <tr>\n",
       "      <th>min</th>\n",
       "      <td>1.000000e+08</td>\n",
       "      <td>9.841000e+09</td>\n",
       "      <td>27.608200</td>\n",
       "      <td>85.228400</td>\n",
       "    </tr>\n",
       "    <tr>\n",
       "      <th>25%</th>\n",
       "      <td>1.000054e+08</td>\n",
       "      <td>9.841251e+09</td>\n",
       "      <td>27.686900</td>\n",
       "      <td>85.312000</td>\n",
       "    </tr>\n",
       "    <tr>\n",
       "      <th>50%</th>\n",
       "      <td>1.000108e+08</td>\n",
       "      <td>9.841499e+09</td>\n",
       "      <td>27.704000</td>\n",
       "      <td>85.322500</td>\n",
       "    </tr>\n",
       "    <tr>\n",
       "      <th>75%</th>\n",
       "      <td>1.000162e+08</td>\n",
       "      <td>9.841749e+09</td>\n",
       "      <td>27.718800</td>\n",
       "      <td>85.336100</td>\n",
       "    </tr>\n",
       "    <tr>\n",
       "      <th>max</th>\n",
       "      <td>1.000216e+08</td>\n",
       "      <td>9.842000e+09</td>\n",
       "      <td>27.783800</td>\n",
       "      <td>85.428100</td>\n",
       "    </tr>\n",
       "  </tbody>\n",
       "</table>\n",
       "</div>"
      ],
      "text/plain": [
       "          client_id         phone           lat           lon\n",
       "count  2.164300e+04  2.164300e+04  21643.000000  21643.000000\n",
       "mean   1.000108e+08  9.841499e+09     27.702879     85.324533\n",
       "std    6.247940e+03  2.880995e+05      0.022681      0.019033\n",
       "min    1.000000e+08  9.841000e+09     27.608200     85.228400\n",
       "25%    1.000054e+08  9.841251e+09     27.686900     85.312000\n",
       "50%    1.000108e+08  9.841499e+09     27.704000     85.322500\n",
       "75%    1.000162e+08  9.841749e+09     27.718800     85.336100\n",
       "max    1.000216e+08  9.842000e+09     27.783800     85.428100"
      ]
     },
     "execution_count": 5,
     "metadata": {},
     "output_type": "execute_result"
    }
   ],
   "source": [
    "clients.describe()"
   ]
  },
  {
   "cell_type": "code",
   "execution_count": 6,
   "id": "63e8785a-319e-4ace-844b-1665c22c7704",
   "metadata": {},
   "outputs": [
    {
     "name": "stdout",
     "output_type": "stream",
     "text": [
      "<class 'pandas.core.frame.DataFrame'>\n",
      "RangeIndex: 21643 entries, 0 to 21642\n",
      "Data columns (total 12 columns):\n",
      " #   Column         Non-Null Count  Dtype         \n",
      "---  ------         --------------  -----         \n",
      " 0   client_id      21643 non-null  int64         \n",
      " 1   name           21643 non-null  object        \n",
      " 2   gender         21643 non-null  object        \n",
      " 3   dob            21643 non-null  object        \n",
      " 4   email          21643 non-null  object        \n",
      " 5   phone          21643 non-null  int64         \n",
      " 6   channel        21643 non-null  object        \n",
      " 7   first_contact  21643 non-null  object        \n",
      " 8   lat            21643 non-null  float64       \n",
      " 9   lon            21643 non-null  float64       \n",
      " 10  location_name  21643 non-null  object        \n",
      " 11  created_at     21643 non-null  datetime64[ns]\n",
      "dtypes: datetime64[ns](1), float64(2), int64(2), object(7)\n",
      "memory usage: 2.0+ MB\n"
     ]
    }
   ],
   "source": [
    "clients.info()"
   ]
  },
  {
   "cell_type": "markdown",
   "id": "411afeb0-d453-4c31-b7f2-a44f37387792",
   "metadata": {},
   "source": [
    "### list the column names"
   ]
  },
  {
   "cell_type": "code",
   "execution_count": 7,
   "id": "b2582b6a-9bb5-4cbb-b66e-edba627c4a28",
   "metadata": {},
   "outputs": [
    {
     "data": {
      "text/plain": [
       "['client_id',\n",
       " 'name',\n",
       " 'gender',\n",
       " 'dob',\n",
       " 'email',\n",
       " 'phone',\n",
       " 'channel',\n",
       " 'first_contact',\n",
       " 'lat',\n",
       " 'lon',\n",
       " 'location_name',\n",
       " 'created_at']"
      ]
     },
     "execution_count": 7,
     "metadata": {},
     "output_type": "execute_result"
    }
   ],
   "source": [
    "list(clients)"
   ]
  },
  {
   "cell_type": "markdown",
   "id": "de579756-ef53-4711-9e99-0638d35e68f7",
   "metadata": {},
   "source": [
    "### number of rows and columns (returns a tuple, we will talk about this)"
   ]
  },
  {
   "cell_type": "code",
   "execution_count": 8,
   "id": "e8dfb867-6406-42ed-8347-e6af52cc0690",
   "metadata": {},
   "outputs": [
    {
     "data": {
      "text/plain": [
       "(21643, 12)"
      ]
     },
     "execution_count": 8,
     "metadata": {},
     "output_type": "execute_result"
    }
   ],
   "source": [
    "clients.shape"
   ]
  },
  {
   "cell_type": "markdown",
   "id": "a7bc3401-2b70-49c6-944f-1337d90d8c4a",
   "metadata": {},
   "source": [
    "## Seaborn for basic viz"
   ]
  },
  {
   "cell_type": "code",
   "execution_count": 9,
   "id": "15cc9bcf-5f2d-4baf-9c39-87856d466169",
   "metadata": {},
   "outputs": [
    {
     "data": {
      "text/plain": [
       "<AxesSubplot:xlabel='gender', ylabel='count'>"
      ]
     },
     "execution_count": 9,
     "metadata": {},
     "output_type": "execute_result"
    },
    {
     "data": {
      "image/png": "[encoded data removed]",
      "text/plain": [
       "<Figure size 432x288 with 1 Axes>"
      ]
     },
     "metadata": {
      "needs_background": "light"
     },
     "output_type": "display_data"
    }
   ],
   "source": [
    "sns.countplot(x=\"gender\", data=clients)"
   ]
  },
  {
   "cell_type": "code",
   "execution_count": 10,
   "id": "996e9e10-e2c0-4525-b54a-5617bb4bc23c",
   "metadata": {},
   "outputs": [
    {
     "data": {
      "text/plain": [
       "<AxesSubplot:xlabel='first_contact', ylabel='count'>"
      ]
     },
     "execution_count": 10,
     "metadata": {},
     "output_type": "execute_result"
    },
    {
     "data": {
      "image/png": "[encoded data removed]",
      "text/plain": [
       "<Figure size 432x288 with 1 Axes>"
      ]
     },
     "metadata": {
      "needs_background": "light"
     },
     "output_type": "display_data"
    }
   ],
   "source": [
    "sns.countplot(x=\"first_contact\", data=clients)"
   ]
  },
  {
   "cell_type": "code",
   "execution_count": 11,
   "id": "7a546d1e-3b30-4e6b-8981-111ae8774ebb",
   "metadata": {},
   "outputs": [
    {
     "data": {
      "text/plain": [
       "<AxesSubplot:xlabel='channel', ylabel='count'>"
      ]
     },
     "execution_count": 11,
     "metadata": {},
     "output_type": "execute_result"
    },
    {
     "data": {
      "image/png": "[encoded data removed]",
      "text/plain": [
       "<Figure size 432x288 with 1 Axes>"
      ]
     },
     "metadata": {
      "needs_background": "light"
     },
     "output_type": "display_data"
    }
   ],
   "source": [
    "sns.countplot(x=\"channel\", data=clients)"
   ]
  },
  {
   "cell_type": "code",
   "execution_count": 12,
   "id": "89360241-982c-402e-a5a9-92f0f20b723c",
   "metadata": {},
   "outputs": [
    {
     "data": {
      "image/png": "[encoded data removed]",
      "text/plain": [
       "<Figure size 432x288 with 1 Axes>"
      ]
     },
     "metadata": {
      "needs_background": "light"
     },
     "output_type": "display_data"
    }
   ],
   "source": [
    "sns.countplot(x=\"channel\", hue=\"gender\",\n",
    "                data=clients);"
   ]
  },
  {
   "cell_type": "code",
   "execution_count": 13,
   "id": "a597b620-4307-4163-ad3e-27ec1ec439ee",
   "metadata": {},
   "outputs": [
    {
     "data": {
      "image/png": "[encoded data removed]",
      "text/plain": [
       "<Figure size 432x288 with 1 Axes>"
      ]
     },
     "metadata": {
      "needs_background": "light"
     },
     "output_type": "display_data"
    }
   ],
   "source": [
    "sns.countplot(x=\"first_contact\", hue=\"gender\",\n",
    "                data=clients);"
   ]
  },
  {
   "cell_type": "markdown",
   "id": "1c524578-1824-492f-a422-8f6d6568a309",
   "metadata": {},
   "source": [
    "### If you want to get the counts (and not the charts)"
   ]
  },
  {
   "cell_type": "code",
   "execution_count": 14,
   "id": "131cc0de-35e8-400a-9e85-cb98f4380f14",
   "metadata": {},
   "outputs": [
    {
     "data": {
      "text/plain": [
       "Male                 11306\n",
       "Female                8040\n",
       "Other                 1500\n",
       "Prefer not to say      797\n",
       "Name: gender, dtype: int64"
      ]
     },
     "execution_count": 14,
     "metadata": {},
     "output_type": "execute_result"
    }
   ],
   "source": [
    "clients.gender.value_counts()"
   ]
  },
  {
   "cell_type": "code",
   "execution_count": 15,
   "id": "e8036f35-7392-4913-a5b1-006aa51a4537",
   "metadata": {},
   "outputs": [
    {
     "data": {
      "text/plain": [
       "browser    18601\n",
       "app         3042\n",
       "Name: first_contact, dtype: int64"
      ]
     },
     "execution_count": 15,
     "metadata": {},
     "output_type": "execute_result"
    }
   ],
   "source": [
    "clients.first_contact.value_counts()"
   ]
  },
  {
   "cell_type": "code",
   "execution_count": 16,
   "id": "8d3f3dc5-15d9-432f-ac4f-6496b04e5f73",
   "metadata": {},
   "outputs": [
    {
     "data": {
      "text/plain": [
       "Facebook/Ads     8247\n",
       "Google Search    5849\n",
       "Other            3827\n",
       "Word of Mouth    3720\n",
       "Name: channel, dtype: int64"
      ]
     },
     "execution_count": 16,
     "metadata": {},
     "output_type": "execute_result"
    }
   ],
   "source": [
    "clients.channel.value_counts()"
   ]
  },
  {
   "cell_type": "code",
   "execution_count": 17,
   "id": "0bfc83a6-e5af-4df0-9378-e9db2b5955f5",
   "metadata": {},
   "outputs": [
    {
     "data": {
      "text/plain": [
       "gender             first_contact\n",
       "Female             app               844\n",
       "                   browser          7196\n",
       "Male               app              1926\n",
       "                   browser          9380\n",
       "Other              app               169\n",
       "                   browser          1331\n",
       "Prefer not to say  app               103\n",
       "                   browser           694\n",
       "dtype: int64"
      ]
     },
     "execution_count": 17,
     "metadata": {},
     "output_type": "execute_result"
    }
   ],
   "source": [
    "clients.groupby(['gender', 'first_contact']).size()"
   ]
  },
  {
   "cell_type": "code",
   "execution_count": 18,
   "id": "e28b0d9e-99b4-425b-add2-c6a2e5b29ec7",
   "metadata": {},
   "outputs": [
    {
     "data": {
      "text/plain": [
       "first_contact  gender           \n",
       "app            Female                844\n",
       "               Male                 1926\n",
       "               Other                 169\n",
       "               Prefer not to say     103\n",
       "browser        Female               7196\n",
       "               Male                 9380\n",
       "               Other                1331\n",
       "               Prefer not to say     694\n",
       "dtype: int64"
      ]
     },
     "execution_count": 18,
     "metadata": {},
     "output_type": "execute_result"
    }
   ],
   "source": [
    "clients.groupby(['first_contact', 'gender']).size()"
   ]
  },
  {
   "cell_type": "markdown",
   "id": "4a0fb7fe-cb60-4607-bb53-c45edcc8d8a2",
   "metadata": {},
   "source": [
    "## Timeseries"
   ]
  },
  {
   "cell_type": "code",
   "execution_count": 23,
   "id": "aa37e068-4322-435e-b425-1a6a101689a8",
   "metadata": {},
   "outputs": [],
   "source": [
    "day_count = clients.groupby(by=clients['created_at'].dt.date)[['created_at']].count()"
   ]
  },
  {
   "cell_type": "code",
   "execution_count": 25,
   "id": "b575cfb0-328c-4ef1-8053-a1be5314b0fe",
   "metadata": {},
   "outputs": [
    {
     "data": {
      "text/plain": [
       "<AxesSubplot:xlabel='created_at', ylabel='created_at'>"
      ]
     },
     "execution_count": 25,
     "metadata": {},
     "output_type": "execute_result"
    },
    {
     "data": {
      "image/png": "[encoded data removed]",
      "text/plain": [
       "<Figure size 432x288 with 1 Axes>"
      ]
     },
     "metadata": {
      "needs_background": "light"
     },
     "output_type": "display_data"
    }
   ],
   "source": [
    "sns.lineplot(x=day_count.index, y=\"created_at\", data=day_count)"
   ]
  },
  {
   "cell_type": "code",
   "execution_count": null,
   "id": "fa7c30ee-9c82-4594-a073-39806fb9da21",
   "metadata": {},
   "outputs": [],
   "source": []
  }
 ],
 "metadata": {
  "kernelspec": {
   "display_name": "Python 3",
   "language": "python",
   "name": "python3"
  },
  "language_info": {
   "codemirror_mode": {
    "name": "ipython",
    "version": 3
   },
   "file_extension": ".py",
   "mimetype": "text/x-python",
   "name": "python",
   "nbconvert_exporter": "python",
   "pygments_lexer": "ipython3",
   "version": "3.8.8"
  }
 },
 "nbformat": 4,
 "nbformat_minor": 5
}
