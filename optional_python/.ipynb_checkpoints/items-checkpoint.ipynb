{
 "cells": [
  {
   "cell_type": "markdown",
   "id": "d51712af-3340-43ed-b9d0-9e271d334a5a",
   "metadata": {},
   "source": [
    "# Items"
   ]
  },
  {
   "cell_type": "markdown",
   "id": "7958c404-4721-4664-a488-39e7d3c961e6",
   "metadata": {},
   "source": [
    "### Imports\n",
    "Good practice to put them on the top"
   ]
  },
  {
   "cell_type": "code",
   "execution_count": 26,
   "id": "b3b405a6-5791-46ca-bba3-4911b8fbfc41",
   "metadata": {},
   "outputs": [],
   "source": [
    "import pandas as pd\n",
    "import seaborn as sns"
   ]
  },
  {
   "cell_type": "markdown",
   "id": "355f5ff3-578c-4309-adc8-35722c7ee259",
   "metadata": {},
   "source": [
    "### Read data (look into the docs for additional information)"
   ]
  },
  {
   "cell_type": "code",
   "execution_count": 27,
   "id": "8b8b0b34-13e2-4a77-bc71-58d44ffd66b8",
   "metadata": {},
   "outputs": [],
   "source": [
    "items = pd.read_csv('../datasets/items.csv')"
   ]
  },
  {
   "cell_type": "markdown",
   "id": "1f5109f2-11ba-4d90-9ef2-03a9af58e0bd",
   "metadata": {},
   "source": [
    "### Show first five rows"
   ]
  },
  {
   "cell_type": "code",
   "execution_count": 28,
   "id": "fbea0c0b-6da3-48b7-9024-79e1e711c77b",
   "metadata": {},
   "outputs": [
    {
     "data": {
      "text/html": [
       "<div>\n",
       "<style scoped>\n",
       "    .dataframe tbody tr th:only-of-type {\n",
       "        vertical-align: middle;\n",
       "    }\n",
       "\n",
       "    .dataframe tbody tr th {\n",
       "        vertical-align: top;\n",
       "    }\n",
       "\n",
       "    .dataframe thead th {\n",
       "        text-align: right;\n",
       "    }\n",
       "</style>\n",
       "<table border=\"1\" class=\"dataframe\">\n",
       "  <thead>\n",
       "    <tr style=\"text-align: right;\">\n",
       "      <th></th>\n",
       "      <th>item_id</th>\n",
       "      <th>item_name</th>\n",
       "      <th>price</th>\n",
       "      <th>category</th>\n",
       "      <th>image_url</th>\n",
       "      <th>inventory</th>\n",
       "    </tr>\n",
       "  </thead>\n",
       "  <tbody>\n",
       "    <tr>\n",
       "      <th>0</th>\n",
       "      <td>10000</td>\n",
       "      <td>iPhone 12 (256GB)</td>\n",
       "      <td>152900</td>\n",
       "      <td>Phone</td>\n",
       "      <td>https://dummyimage.com/600x400/000/fff&amp;text=iP...</td>\n",
       "      <td>36</td>\n",
       "    </tr>\n",
       "    <tr>\n",
       "      <th>1</th>\n",
       "      <td>10001</td>\n",
       "      <td>VivoBook 14 X415JA (14” FHD, Intel i7-1065G7, ...</td>\n",
       "      <td>115000</td>\n",
       "      <td>Laptop</td>\n",
       "      <td>https://dummyimage.com/600x400/000/fff&amp;text=Vi...</td>\n",
       "      <td>39</td>\n",
       "    </tr>\n",
       "    <tr>\n",
       "      <th>2</th>\n",
       "      <td>10002</td>\n",
       "      <td>Helios 300 2020 (15.6″ FHD 144Hz, Core i7-1075...</td>\n",
       "      <td>190000</td>\n",
       "      <td>Laptop</td>\n",
       "      <td>https://dummyimage.com/600x400/000/fff&amp;text=He...</td>\n",
       "      <td>27</td>\n",
       "    </tr>\n",
       "    <tr>\n",
       "      <th>3</th>\n",
       "      <td>10003</td>\n",
       "      <td>Sony Alpha A6500 (With 18-135mm zoom lens)</td>\n",
       "      <td>245000</td>\n",
       "      <td>Camera</td>\n",
       "      <td>https://dummyimage.com/600x400/000/fff&amp;text=So...</td>\n",
       "      <td>71</td>\n",
       "    </tr>\n",
       "    <tr>\n",
       "      <th>4</th>\n",
       "      <td>10004</td>\n",
       "      <td>iPhone SE 2 (256GB)</td>\n",
       "      <td>96000</td>\n",
       "      <td>Phone</td>\n",
       "      <td>https://dummyimage.com/600x400/000/fff&amp;text=iP...</td>\n",
       "      <td>24</td>\n",
       "    </tr>\n",
       "  </tbody>\n",
       "</table>\n",
       "</div>"
      ],
      "text/plain": [
       "   item_id                                          item_name   price  \\\n",
       "0    10000                                  iPhone 12 (256GB)  152900   \n",
       "1    10001  VivoBook 14 X415JA (14” FHD, Intel i7-1065G7, ...  115000   \n",
       "2    10002  Helios 300 2020 (15.6″ FHD 144Hz, Core i7-1075...  190000   \n",
       "3    10003         Sony Alpha A6500 (With 18-135mm zoom lens)  245000   \n",
       "4    10004                                iPhone SE 2 (256GB)   96000   \n",
       "\n",
       "  category                                          image_url  inventory  \n",
       "0    Phone  https://dummyimage.com/600x400/000/fff&text=iP...         36  \n",
       "1   Laptop  https://dummyimage.com/600x400/000/fff&text=Vi...         39  \n",
       "2   Laptop  https://dummyimage.com/600x400/000/fff&text=He...         27  \n",
       "3   Camera  https://dummyimage.com/600x400/000/fff&text=So...         71  \n",
       "4    Phone  https://dummyimage.com/600x400/000/fff&text=iP...         24  "
      ]
     },
     "execution_count": 28,
     "metadata": {},
     "output_type": "execute_result"
    }
   ],
   "source": [
    "items.head()"
   ]
  },
  {
   "cell_type": "markdown",
   "id": "6705fa6c-8c0f-4dec-a82d-5b7ef7fc1d40",
   "metadata": {},
   "source": [
    "### Show last five rows"
   ]
  },
  {
   "cell_type": "code",
   "execution_count": 29,
   "id": "9d618bf2-6f26-4aa8-8b13-1f06340a7e68",
   "metadata": {},
   "outputs": [
    {
     "data": {
      "text/html": [
       "<div>\n",
       "<style scoped>\n",
       "    .dataframe tbody tr th:only-of-type {\n",
       "        vertical-align: middle;\n",
       "    }\n",
       "\n",
       "    .dataframe tbody tr th {\n",
       "        vertical-align: top;\n",
       "    }\n",
       "\n",
       "    .dataframe thead th {\n",
       "        text-align: right;\n",
       "    }\n",
       "</style>\n",
       "<table border=\"1\" class=\"dataframe\">\n",
       "  <thead>\n",
       "    <tr style=\"text-align: right;\">\n",
       "      <th></th>\n",
       "      <th>item_id</th>\n",
       "      <th>item_name</th>\n",
       "      <th>price</th>\n",
       "      <th>category</th>\n",
       "      <th>image_url</th>\n",
       "      <th>inventory</th>\n",
       "    </tr>\n",
       "  </thead>\n",
       "  <tbody>\n",
       "    <tr>\n",
       "      <th>286</th>\n",
       "      <td>10286</td>\n",
       "      <td>Poco F3 (6+128GB)</td>\n",
       "      <td>46999</td>\n",
       "      <td>Phone</td>\n",
       "      <td>https://dummyimage.com/600x400/000/fff&amp;text=Po...</td>\n",
       "      <td>88</td>\n",
       "    </tr>\n",
       "    <tr>\n",
       "      <th>287</th>\n",
       "      <td>10287</td>\n",
       "      <td>Oppo F17 (6+128GB)</td>\n",
       "      <td>33990</td>\n",
       "      <td>Phone</td>\n",
       "      <td>https://dummyimage.com/600x400/000/fff&amp;text=Op...</td>\n",
       "      <td>15</td>\n",
       "    </tr>\n",
       "    <tr>\n",
       "      <th>288</th>\n",
       "      <td>10288</td>\n",
       "      <td>Galaxy A12 (4+64GB)</td>\n",
       "      <td>18999</td>\n",
       "      <td>Phone</td>\n",
       "      <td>https://dummyimage.com/600x400/000/fff&amp;text=Ga...</td>\n",
       "      <td>60</td>\n",
       "    </tr>\n",
       "    <tr>\n",
       "      <th>289</th>\n",
       "      <td>10289</td>\n",
       "      <td>Oppo F19 (6+128GB)</td>\n",
       "      <td>34590</td>\n",
       "      <td>Phone</td>\n",
       "      <td>https://dummyimage.com/600x400/000/fff&amp;text=Op...</td>\n",
       "      <td>48</td>\n",
       "    </tr>\n",
       "    <tr>\n",
       "      <th>290</th>\n",
       "      <td>10290</td>\n",
       "      <td>Sony Alpha A7 III (Body only)</td>\n",
       "      <td>267500</td>\n",
       "      <td>Camera</td>\n",
       "      <td>https://dummyimage.com/600x400/000/fff&amp;text=So...</td>\n",
       "      <td>44</td>\n",
       "    </tr>\n",
       "  </tbody>\n",
       "</table>\n",
       "</div>"
      ],
      "text/plain": [
       "     item_id                      item_name   price category  \\\n",
       "286    10286              Poco F3 (6+128GB)   46999    Phone   \n",
       "287    10287             Oppo F17 (6+128GB)   33990    Phone   \n",
       "288    10288            Galaxy A12 (4+64GB)   18999    Phone   \n",
       "289    10289             Oppo F19 (6+128GB)   34590    Phone   \n",
       "290    10290  Sony Alpha A7 III (Body only)  267500   Camera   \n",
       "\n",
       "                                             image_url  inventory  \n",
       "286  https://dummyimage.com/600x400/000/fff&text=Po...         88  \n",
       "287  https://dummyimage.com/600x400/000/fff&text=Op...         15  \n",
       "288  https://dummyimage.com/600x400/000/fff&text=Ga...         60  \n",
       "289  https://dummyimage.com/600x400/000/fff&text=Op...         48  \n",
       "290  https://dummyimage.com/600x400/000/fff&text=So...         44  "
      ]
     },
     "execution_count": 29,
     "metadata": {},
     "output_type": "execute_result"
    }
   ],
   "source": [
    "items.tail()"
   ]
  },
  {
   "cell_type": "markdown",
   "id": "913c426b-880d-462a-929b-41bb4395acb2",
   "metadata": {},
   "source": [
    "### use the describe feature to get mean, count, median, quartile info (sometimes it might not be relavant so be careful)"
   ]
  },
  {
   "cell_type": "code",
   "execution_count": 30,
   "id": "088b1c2e-01ad-4517-89e8-4dfec651725a",
   "metadata": {},
   "outputs": [
    {
     "data": {
      "text/html": [
       "<div>\n",
       "<style scoped>\n",
       "    .dataframe tbody tr th:only-of-type {\n",
       "        vertical-align: middle;\n",
       "    }\n",
       "\n",
       "    .dataframe tbody tr th {\n",
       "        vertical-align: top;\n",
       "    }\n",
       "\n",
       "    .dataframe thead th {\n",
       "        text-align: right;\n",
       "    }\n",
       "</style>\n",
       "<table border=\"1\" class=\"dataframe\">\n",
       "  <thead>\n",
       "    <tr style=\"text-align: right;\">\n",
       "      <th></th>\n",
       "      <th>item_id</th>\n",
       "      <th>price</th>\n",
       "      <th>inventory</th>\n",
       "    </tr>\n",
       "  </thead>\n",
       "  <tbody>\n",
       "    <tr>\n",
       "      <th>count</th>\n",
       "      <td>291.000000</td>\n",
       "      <td>291.000000</td>\n",
       "      <td>291.000000</td>\n",
       "    </tr>\n",
       "    <tr>\n",
       "      <th>mean</th>\n",
       "      <td>10145.000000</td>\n",
       "      <td>102779.635739</td>\n",
       "      <td>55.656357</td>\n",
       "    </tr>\n",
       "    <tr>\n",
       "      <th>std</th>\n",
       "      <td>84.148678</td>\n",
       "      <td>109381.475658</td>\n",
       "      <td>25.808154</td>\n",
       "    </tr>\n",
       "    <tr>\n",
       "      <th>min</th>\n",
       "      <td>10000.000000</td>\n",
       "      <td>8399.000000</td>\n",
       "      <td>10.000000</td>\n",
       "    </tr>\n",
       "    <tr>\n",
       "      <th>25%</th>\n",
       "      <td>10072.500000</td>\n",
       "      <td>25999.000000</td>\n",
       "      <td>33.500000</td>\n",
       "    </tr>\n",
       "    <tr>\n",
       "      <th>50%</th>\n",
       "      <td>10145.000000</td>\n",
       "      <td>67990.000000</td>\n",
       "      <td>57.000000</td>\n",
       "    </tr>\n",
       "    <tr>\n",
       "      <th>75%</th>\n",
       "      <td>10217.500000</td>\n",
       "      <td>141000.000000</td>\n",
       "      <td>77.500000</td>\n",
       "    </tr>\n",
       "    <tr>\n",
       "      <th>max</th>\n",
       "      <td>10290.000000</td>\n",
       "      <td>693000.000000</td>\n",
       "      <td>100.000000</td>\n",
       "    </tr>\n",
       "  </tbody>\n",
       "</table>\n",
       "</div>"
      ],
      "text/plain": [
       "            item_id          price   inventory\n",
       "count    291.000000     291.000000  291.000000\n",
       "mean   10145.000000  102779.635739   55.656357\n",
       "std       84.148678  109381.475658   25.808154\n",
       "min    10000.000000    8399.000000   10.000000\n",
       "25%    10072.500000   25999.000000   33.500000\n",
       "50%    10145.000000   67990.000000   57.000000\n",
       "75%    10217.500000  141000.000000   77.500000\n",
       "max    10290.000000  693000.000000  100.000000"
      ]
     },
     "execution_count": 30,
     "metadata": {},
     "output_type": "execute_result"
    }
   ],
   "source": [
    "items.describe()"
   ]
  },
  {
   "cell_type": "code",
   "execution_count": 31,
   "id": "63e8785a-319e-4ace-844b-1665c22c7704",
   "metadata": {},
   "outputs": [
    {
     "name": "stdout",
     "output_type": "stream",
     "text": [
      "<class 'pandas.core.frame.DataFrame'>\n",
      "RangeIndex: 291 entries, 0 to 290\n",
      "Data columns (total 6 columns):\n",
      " #   Column     Non-Null Count  Dtype \n",
      "---  ------     --------------  ----- \n",
      " 0   item_id    291 non-null    int64 \n",
      " 1   item_name  291 non-null    object\n",
      " 2   price      291 non-null    int64 \n",
      " 3   category   291 non-null    object\n",
      " 4   image_url  291 non-null    object\n",
      " 5   inventory  291 non-null    int64 \n",
      "dtypes: int64(3), object(3)\n",
      "memory usage: 13.8+ KB\n"
     ]
    }
   ],
   "source": [
    "items.info()"
   ]
  },
  {
   "cell_type": "markdown",
   "id": "411afeb0-d453-4c31-b7f2-a44f37387792",
   "metadata": {},
   "source": [
    "### list the column names"
   ]
  },
  {
   "cell_type": "code",
   "execution_count": 32,
   "id": "b2582b6a-9bb5-4cbb-b66e-edba627c4a28",
   "metadata": {},
   "outputs": [
    {
     "data": {
      "text/plain": [
       "['item_id', 'item_name', 'price', 'category', 'image_url', 'inventory']"
      ]
     },
     "execution_count": 32,
     "metadata": {},
     "output_type": "execute_result"
    }
   ],
   "source": [
    "list(items)"
   ]
  },
  {
   "cell_type": "markdown",
   "id": "de579756-ef53-4711-9e99-0638d35e68f7",
   "metadata": {},
   "source": [
    "### number of rows and columns (returns a tuple, we will talk about this)"
   ]
  },
  {
   "cell_type": "code",
   "execution_count": 33,
   "id": "e8dfb867-6406-42ed-8347-e6af52cc0690",
   "metadata": {},
   "outputs": [
    {
     "data": {
      "text/plain": [
       "(291, 6)"
      ]
     },
     "execution_count": 33,
     "metadata": {},
     "output_type": "execute_result"
    }
   ],
   "source": [
    "items.shape"
   ]
  },
  {
   "cell_type": "markdown",
   "id": "a7bc3401-2b70-49c6-944f-1337d90d8c4a",
   "metadata": {},
   "source": [
    "## Seaborn for basic viz"
   ]
  },
  {
   "cell_type": "code",
   "execution_count": 34,
   "id": "15cc9bcf-5f2d-4baf-9c39-87856d466169",
   "metadata": {},
   "outputs": [
    {
     "data": {
      "text/plain": [
       "<AxesSubplot:xlabel='category', ylabel='count'>"
      ]
     },
     "execution_count": 34,
     "metadata": {},
     "output_type": "execute_result"
    },
    {
     "data": {
      "image/png": "[encoded data removed]",
      "text/plain": [
       "<Figure size 432x288 with 1 Axes>"
      ]
     },
     "metadata": {
      "needs_background": "light"
     },
     "output_type": "display_data"
    }
   ],
   "source": [
    "sns.countplot(x=\"category\", data=items)"
   ]
  },
  {
   "cell_type": "markdown",
   "id": "de1bcb11-6c92-438c-ad0f-080d77a26c91",
   "metadata": {},
   "source": [
    "## Do more analysis"
   ]
  }
 ],
 "metadata": {
  "kernelspec": {
   "display_name": "Python 3",
   "language": "python",
   "name": "python3"
  },
  "language_info": {
   "codemirror_mode": {
    "name": "ipython",
    "version": 3
   },
   "file_extension": ".py",
   "mimetype": "text/x-python",
   "name": "python",
   "nbconvert_exporter": "python",
   "pygments_lexer": "ipython3",
   "version": "3.8.8"
  }
 },
 "nbformat": 4,
 "nbformat_minor": 5
}
