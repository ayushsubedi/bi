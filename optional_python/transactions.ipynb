{
 "cells": [
  {
   "cell_type": "markdown",
   "id": "d51712af-3340-43ed-b9d0-9e271d334a5a",
   "metadata": {},
   "source": [
    "# Transactions"
   ]
  },
  {
   "cell_type": "markdown",
   "id": "7958c404-4721-4664-a488-39e7d3c961e6",
   "metadata": {},
   "source": [
    "### Imports\n",
    "Good practice to put them on the top"
   ]
  },
  {
   "cell_type": "code",
   "execution_count": 2,
   "id": "b3b405a6-5791-46ca-bba3-4911b8fbfc41",
   "metadata": {},
   "outputs": [],
   "source": [
    "import pandas as pd\n",
    "import seaborn as sns"
   ]
  },
  {
   "cell_type": "markdown",
   "id": "355f5ff3-578c-4309-adc8-35722c7ee259",
   "metadata": {},
   "source": [
    "### Read data (look into the docs for additional information)"
   ]
  },
  {
   "cell_type": "code",
   "execution_count": 3,
   "id": "8b8b0b34-13e2-4a77-bc71-58d44ffd66b8",
   "metadata": {},
   "outputs": [],
   "source": [
    "transactions = pd.read_csv('../datasets/transactions.csv')"
   ]
  },
  {
   "cell_type": "markdown",
   "id": "1f5109f2-11ba-4d90-9ef2-03a9af58e0bd",
   "metadata": {},
   "source": [
    "### Show first five rows"
   ]
  },
  {
   "cell_type": "code",
   "execution_count": 4,
   "id": "fbea0c0b-6da3-48b7-9024-79e1e711c77b",
   "metadata": {},
   "outputs": [
    {
     "data": {
      "text/html": [
       "<div>\n",
       "<style scoped>\n",
       "    .dataframe tbody tr th:only-of-type {\n",
       "        vertical-align: middle;\n",
       "    }\n",
       "\n",
       "    .dataframe tbody tr th {\n",
       "        vertical-align: top;\n",
       "    }\n",
       "\n",
       "    .dataframe thead th {\n",
       "        text-align: right;\n",
       "    }\n",
       "</style>\n",
       "<table border=\"1\" class=\"dataframe\">\n",
       "  <thead>\n",
       "    <tr style=\"text-align: right;\">\n",
       "      <th></th>\n",
       "      <th>created_at</th>\n",
       "      <th>item_id</th>\n",
       "      <th>client_id</th>\n",
       "    </tr>\n",
       "  </thead>\n",
       "  <tbody>\n",
       "    <tr>\n",
       "      <th>0</th>\n",
       "      <td>2020-09-01 09:49:12.285421</td>\n",
       "      <td>10142</td>\n",
       "      <td>100000015</td>\n",
       "    </tr>\n",
       "    <tr>\n",
       "      <th>1</th>\n",
       "      <td>2020-09-01 16:44:09.888896</td>\n",
       "      <td>10113</td>\n",
       "      <td>100000010</td>\n",
       "    </tr>\n",
       "    <tr>\n",
       "      <th>2</th>\n",
       "      <td>2020-09-01 22:40:07.678792</td>\n",
       "      <td>10105</td>\n",
       "      <td>100000010</td>\n",
       "    </tr>\n",
       "    <tr>\n",
       "      <th>3</th>\n",
       "      <td>2020-09-02 18:48:22.620671</td>\n",
       "      <td>10177</td>\n",
       "      <td>100000022</td>\n",
       "    </tr>\n",
       "    <tr>\n",
       "      <th>4</th>\n",
       "      <td>2020-09-02 11:04:38.703035</td>\n",
       "      <td>10039</td>\n",
       "      <td>100000019</td>\n",
       "    </tr>\n",
       "  </tbody>\n",
       "</table>\n",
       "</div>"
      ],
      "text/plain": [
       "                   created_at  item_id  client_id\n",
       "0  2020-09-01 09:49:12.285421    10142  100000015\n",
       "1  2020-09-01 16:44:09.888896    10113  100000010\n",
       "2  2020-09-01 22:40:07.678792    10105  100000010\n",
       "3  2020-09-02 18:48:22.620671    10177  100000022\n",
       "4  2020-09-02 11:04:38.703035    10039  100000019"
      ]
     },
     "execution_count": 4,
     "metadata": {},
     "output_type": "execute_result"
    }
   ],
   "source": [
    "transactions.head()"
   ]
  },
  {
   "cell_type": "markdown",
   "id": "6705fa6c-8c0f-4dec-a82d-5b7ef7fc1d40",
   "metadata": {},
   "source": [
    "### Show last five rows"
   ]
  },
  {
   "cell_type": "code",
   "execution_count": 5,
   "id": "9d618bf2-6f26-4aa8-8b13-1f06340a7e68",
   "metadata": {},
   "outputs": [
    {
     "data": {
      "text/html": [
       "<div>\n",
       "<style scoped>\n",
       "    .dataframe tbody tr th:only-of-type {\n",
       "        vertical-align: middle;\n",
       "    }\n",
       "\n",
       "    .dataframe tbody tr th {\n",
       "        vertical-align: top;\n",
       "    }\n",
       "\n",
       "    .dataframe thead th {\n",
       "        text-align: right;\n",
       "    }\n",
       "</style>\n",
       "<table border=\"1\" class=\"dataframe\">\n",
       "  <thead>\n",
       "    <tr style=\"text-align: right;\">\n",
       "      <th></th>\n",
       "      <th>created_at</th>\n",
       "      <th>item_id</th>\n",
       "      <th>client_id</th>\n",
       "    </tr>\n",
       "  </thead>\n",
       "  <tbody>\n",
       "    <tr>\n",
       "      <th>6080</th>\n",
       "      <td>2021-08-31 21:25:25.914975</td>\n",
       "      <td>10014</td>\n",
       "      <td>100016123</td>\n",
       "    </tr>\n",
       "    <tr>\n",
       "      <th>6081</th>\n",
       "      <td>2021-08-31 02:01:14.664119</td>\n",
       "      <td>10169</td>\n",
       "      <td>100021639</td>\n",
       "    </tr>\n",
       "    <tr>\n",
       "      <th>6082</th>\n",
       "      <td>2021-08-31 02:30:22.605617</td>\n",
       "      <td>10050</td>\n",
       "      <td>100011984</td>\n",
       "    </tr>\n",
       "    <tr>\n",
       "      <th>6083</th>\n",
       "      <td>2021-08-31 21:23:18.842280</td>\n",
       "      <td>10139</td>\n",
       "      <td>100000569</td>\n",
       "    </tr>\n",
       "    <tr>\n",
       "      <th>6084</th>\n",
       "      <td>2021-08-31 15:04:59.707512</td>\n",
       "      <td>10245</td>\n",
       "      <td>100005722</td>\n",
       "    </tr>\n",
       "  </tbody>\n",
       "</table>\n",
       "</div>"
      ],
      "text/plain": [
       "                      created_at  item_id  client_id\n",
       "6080  2021-08-31 21:25:25.914975    10014  100016123\n",
       "6081  2021-08-31 02:01:14.664119    10169  100021639\n",
       "6082  2021-08-31 02:30:22.605617    10050  100011984\n",
       "6083  2021-08-31 21:23:18.842280    10139  100000569\n",
       "6084  2021-08-31 15:04:59.707512    10245  100005722"
      ]
     },
     "execution_count": 5,
     "metadata": {},
     "output_type": "execute_result"
    }
   ],
   "source": [
    "transactions.tail()"
   ]
  },
  {
   "cell_type": "markdown",
   "id": "913c426b-880d-462a-929b-41bb4395acb2",
   "metadata": {},
   "source": [
    "### use the describe feature to get mean, count, median, quartile info (sometimes it might not be relavant so be careful)"
   ]
  },
  {
   "cell_type": "code",
   "execution_count": 6,
   "id": "088b1c2e-01ad-4517-89e8-4dfec651725a",
   "metadata": {},
   "outputs": [
    {
     "data": {
      "text/html": [
       "<div>\n",
       "<style scoped>\n",
       "    .dataframe tbody tr th:only-of-type {\n",
       "        vertical-align: middle;\n",
       "    }\n",
       "\n",
       "    .dataframe tbody tr th {\n",
       "        vertical-align: top;\n",
       "    }\n",
       "\n",
       "    .dataframe thead th {\n",
       "        text-align: right;\n",
       "    }\n",
       "</style>\n",
       "<table border=\"1\" class=\"dataframe\">\n",
       "  <thead>\n",
       "    <tr style=\"text-align: right;\">\n",
       "      <th></th>\n",
       "      <th>item_id</th>\n",
       "      <th>client_id</th>\n",
       "    </tr>\n",
       "  </thead>\n",
       "  <tbody>\n",
       "    <tr>\n",
       "      <th>count</th>\n",
       "      <td>6085.000000</td>\n",
       "      <td>6.085000e+03</td>\n",
       "    </tr>\n",
       "    <tr>\n",
       "      <th>mean</th>\n",
       "      <td>10151.703533</td>\n",
       "      <td>1.000066e+08</td>\n",
       "    </tr>\n",
       "    <tr>\n",
       "      <th>std</th>\n",
       "      <td>81.345483</td>\n",
       "      <td>5.460200e+03</td>\n",
       "    </tr>\n",
       "    <tr>\n",
       "      <th>min</th>\n",
       "      <td>10001.000000</td>\n",
       "      <td>1.000000e+08</td>\n",
       "    </tr>\n",
       "    <tr>\n",
       "      <th>25%</th>\n",
       "      <td>10086.000000</td>\n",
       "      <td>1.000020e+08</td>\n",
       "    </tr>\n",
       "    <tr>\n",
       "      <th>50%</th>\n",
       "      <td>10155.000000</td>\n",
       "      <td>1.000052e+08</td>\n",
       "    </tr>\n",
       "    <tr>\n",
       "      <th>75%</th>\n",
       "      <td>10222.000000</td>\n",
       "      <td>1.000101e+08</td>\n",
       "    </tr>\n",
       "    <tr>\n",
       "      <th>max</th>\n",
       "      <td>10290.000000</td>\n",
       "      <td>1.000216e+08</td>\n",
       "    </tr>\n",
       "  </tbody>\n",
       "</table>\n",
       "</div>"
      ],
      "text/plain": [
       "            item_id     client_id\n",
       "count   6085.000000  6.085000e+03\n",
       "mean   10151.703533  1.000066e+08\n",
       "std       81.345483  5.460200e+03\n",
       "min    10001.000000  1.000000e+08\n",
       "25%    10086.000000  1.000020e+08\n",
       "50%    10155.000000  1.000052e+08\n",
       "75%    10222.000000  1.000101e+08\n",
       "max    10290.000000  1.000216e+08"
      ]
     },
     "execution_count": 6,
     "metadata": {},
     "output_type": "execute_result"
    }
   ],
   "source": [
    "transactions.describe()"
   ]
  },
  {
   "cell_type": "code",
   "execution_count": 7,
   "id": "63e8785a-319e-4ace-844b-1665c22c7704",
   "metadata": {},
   "outputs": [
    {
     "name": "stdout",
     "output_type": "stream",
     "text": [
      "<class 'pandas.core.frame.DataFrame'>\n",
      "RangeIndex: 6085 entries, 0 to 6084\n",
      "Data columns (total 3 columns):\n",
      " #   Column      Non-Null Count  Dtype \n",
      "---  ------      --------------  ----- \n",
      " 0   created_at  6085 non-null   object\n",
      " 1   item_id     6085 non-null   int64 \n",
      " 2   client_id   6085 non-null   int64 \n",
      "dtypes: int64(2), object(1)\n",
      "memory usage: 142.7+ KB\n"
     ]
    }
   ],
   "source": [
    "transactions.info()"
   ]
  },
  {
   "cell_type": "markdown",
   "id": "411afeb0-d453-4c31-b7f2-a44f37387792",
   "metadata": {},
   "source": [
    "### list the column names"
   ]
  },
  {
   "cell_type": "code",
   "execution_count": 8,
   "id": "b2582b6a-9bb5-4cbb-b66e-edba627c4a28",
   "metadata": {},
   "outputs": [
    {
     "data": {
      "text/plain": [
       "['created_at', 'item_id', 'client_id']"
      ]
     },
     "execution_count": 8,
     "metadata": {},
     "output_type": "execute_result"
    }
   ],
   "source": [
    "list(transactions)"
   ]
  },
  {
   "cell_type": "markdown",
   "id": "de579756-ef53-4711-9e99-0638d35e68f7",
   "metadata": {},
   "source": [
    "### number of rows and columns (returns a tuple, we will talk about this)"
   ]
  },
  {
   "cell_type": "code",
   "execution_count": 9,
   "id": "e8dfb867-6406-42ed-8347-e6af52cc0690",
   "metadata": {},
   "outputs": [
    {
     "data": {
      "text/plain": [
       "(6085, 3)"
      ]
     },
     "execution_count": 9,
     "metadata": {},
     "output_type": "execute_result"
    }
   ],
   "source": [
    "transactions.shape"
   ]
  },
  {
   "cell_type": "markdown",
   "id": "de1bcb11-6c92-438c-ad0f-080d77a26c91",
   "metadata": {},
   "source": [
    "## Do more analysis"
   ]
  }
 ],
 "metadata": {
  "kernelspec": {
   "display_name": "Python 3",
   "language": "python",
   "name": "python3"
  },
  "language_info": {
   "codemirror_mode": {
    "name": "ipython",
    "version": 3
   },
   "file_extension": ".py",
   "mimetype": "text/x-python",
   "name": "python",
   "nbconvert_exporter": "python",
   "pygments_lexer": "ipython3",
   "version": "3.8.8"
  }
 },
 "nbformat": 4,
 "nbformat_minor": 5
}
